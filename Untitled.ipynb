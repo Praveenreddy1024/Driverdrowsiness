{
 "cells": [
  {
   "cell_type": "code",
   "execution_count": 1,
   "id": "dc675690",
   "metadata": {},
   "outputs": [],
   "source": [
    "import tensorflow as tf\n",
    "import cv2\n",
    "import os\n",
    "import matplotlib.pyplot as plt\n",
    "import numpy as np\n",
    "import pickle\n",
    "from tensorflow import keras\n",
    "from tensorflow.keras import layers\n",
    "import random "
   ]
  },
  {
   "cell_type": "code",
   "execution_count": 2,
   "id": "b9c17296",
   "metadata": {},
   "outputs": [],
   "source": [
    "folder = 'dd_dataset'\n",
    "classes = ['Open_Eyes','Closed_Eyes']\n",
    "\n",
    "train_data = []\n",
    "\n",
    "for i in classes:\n",
    "    path = os.path.join(folder,i)\n",
    "    class_num = classes.index(i)\n",
    "    for img in os.listdir(path):\n",
    "        img_array = cv2.imread(os.path.join(path,img),cv2.IMREAD_GRAYSCALE)\n",
    "        rgb = cv2.cvtColor(img_array,cv2.COLOR_GRAY2RGB)\n",
    "        new_array = cv2.resize(rgb,(224,224))\n",
    "        train_data.append([new_array,class_num])"
   ]
  },
  {
   "cell_type": "markdown",
   "id": "cba6c73e",
   "metadata": {},
   "source": [
    "At start we initialize the classes and folder. \n",
    "Now for each folder in dd_dataset (i.e. open_eyes and closed_eyes) we append it to the train_data list. Before appending we also resize images to 224x224 as our model architecture will require inputs of 224x224 size."
   ]
  },
  {
   "cell_type": "code",
   "execution_count": 3,
   "id": "83ddb4f7",
   "metadata": {},
   "outputs": [],
   "source": [
    "random.shuffle(train_data)"
   ]
  },
  {
   "cell_type": "code",
   "execution_count": 4,
   "id": "3638f6e7",
   "metadata": {},
   "outputs": [],
   "source": [
    "# lets group the training data as input and output\n",
    "x=[]\n",
    "y=[]\n",
    "\n",
    "for i,j in train_data:\n",
    "    x.append(i)\n",
    "    y.append(j)\n",
    "x = np.array(x).reshape(-1,224,224,3)\n",
    "#here we used the number -1 because we dont know the number of images\n",
    "# by doing so the shape will automatically adjusted making the element number to be constant\n",
    "# lets normalize our input\n",
    "x = x/255.0\n",
    "y = np.array(y)\n"
   ]
  },
  {
   "cell_type": "code",
   "execution_count": 5,
   "id": "0631fff2",
   "metadata": {},
   "outputs": [],
   "source": [
    "import pickle\n",
    "\n",
    "pickle_out = open('x.pickle','wb') #wb indicates the file is opened to write something\n",
    "pickle.dump(x,pickle_out)\n",
    "pickle_out.close()\n",
    "# the above code opens a file named as x.pickle and saves all the x values in it\n",
    "\n",
    "pickle_out = open('y.pickle','wb')\n",
    "pickle.dump(y,pickle_out)\n",
    "pickle_out.close()\n"
   ]
  },
  {
   "cell_type": "code",
   "execution_count": 6,
   "id": "b983681d",
   "metadata": {},
   "outputs": [],
   "source": [
    "pickle_in = open('x.pickle','rb')\n",
    "x = pickle.load(pickle_in)\n",
    "\n",
    "pickle_in = open('y.pickle','rb')\n",
    "y = pickle.load(pickle_in)"
   ]
  },
  {
   "cell_type": "code",
   "execution_count": 7,
   "id": "f120aabb",
   "metadata": {},
   "outputs": [
    {
     "name": "stdout",
     "output_type": "stream",
     "text": [
      "Model: \"mobilenet_1.00_224\"\n",
      "_________________________________________________________________\n",
      " Layer (type)                Output Shape              Param #   \n",
      "=================================================================\n",
      " input_1 (InputLayer)        [(None, 224, 224, 3)]     0         \n",
      "                                                                 \n",
      " conv1 (Conv2D)              (None, 112, 112, 32)      864       \n",
      "                                                                 \n",
      " conv1_bn (BatchNormalizatio  (None, 112, 112, 32)     128       \n",
      " n)                                                              \n",
      "                                                                 \n",
      " conv1_relu (ReLU)           (None, 112, 112, 32)      0         \n",
      "                                                                 \n",
      " conv_dw_1 (DepthwiseConv2D)  (None, 112, 112, 32)     288       \n",
      "                                                                 \n",
      " conv_dw_1_bn (BatchNormaliz  (None, 112, 112, 32)     128       \n",
      " ation)                                                          \n",
      "                                                                 \n",
      " conv_dw_1_relu (ReLU)       (None, 112, 112, 32)      0         \n",
      "                                                                 \n",
      " conv_pw_1 (Conv2D)          (None, 112, 112, 64)      2048      \n",
      "                                                                 \n",
      " conv_pw_1_bn (BatchNormaliz  (None, 112, 112, 64)     256       \n",
      " ation)                                                          \n",
      "                                                                 \n",
      " conv_pw_1_relu (ReLU)       (None, 112, 112, 64)      0         \n",
      "                                                                 \n",
      " conv_pad_2 (ZeroPadding2D)  (None, 113, 113, 64)      0         \n",
      "                                                                 \n",
      " conv_dw_2 (DepthwiseConv2D)  (None, 56, 56, 64)       576       \n",
      "                                                                 \n",
      " conv_dw_2_bn (BatchNormaliz  (None, 56, 56, 64)       256       \n",
      " ation)                                                          \n",
      "                                                                 \n",
      " conv_dw_2_relu (ReLU)       (None, 56, 56, 64)        0         \n",
      "                                                                 \n",
      " conv_pw_2 (Conv2D)          (None, 56, 56, 128)       8192      \n",
      "                                                                 \n",
      " conv_pw_2_bn (BatchNormaliz  (None, 56, 56, 128)      512       \n",
      " ation)                                                          \n",
      "                                                                 \n",
      " conv_pw_2_relu (ReLU)       (None, 56, 56, 128)       0         \n",
      "                                                                 \n",
      " conv_dw_3 (DepthwiseConv2D)  (None, 56, 56, 128)      1152      \n",
      "                                                                 \n",
      " conv_dw_3_bn (BatchNormaliz  (None, 56, 56, 128)      512       \n",
      " ation)                                                          \n",
      "                                                                 \n",
      " conv_dw_3_relu (ReLU)       (None, 56, 56, 128)       0         \n",
      "                                                                 \n",
      " conv_pw_3 (Conv2D)          (None, 56, 56, 128)       16384     \n",
      "                                                                 \n",
      " conv_pw_3_bn (BatchNormaliz  (None, 56, 56, 128)      512       \n",
      " ation)                                                          \n",
      "                                                                 \n",
      " conv_pw_3_relu (ReLU)       (None, 56, 56, 128)       0         \n",
      "                                                                 \n",
      " conv_pad_4 (ZeroPadding2D)  (None, 57, 57, 128)       0         \n",
      "                                                                 \n",
      " conv_dw_4 (DepthwiseConv2D)  (None, 28, 28, 128)      1152      \n",
      "                                                                 \n",
      " conv_dw_4_bn (BatchNormaliz  (None, 28, 28, 128)      512       \n",
      " ation)                                                          \n",
      "                                                                 \n",
      " conv_dw_4_relu (ReLU)       (None, 28, 28, 128)       0         \n",
      "                                                                 \n",
      " conv_pw_4 (Conv2D)          (None, 28, 28, 256)       32768     \n",
      "                                                                 \n",
      " conv_pw_4_bn (BatchNormaliz  (None, 28, 28, 256)      1024      \n",
      " ation)                                                          \n",
      "                                                                 \n",
      " conv_pw_4_relu (ReLU)       (None, 28, 28, 256)       0         \n",
      "                                                                 \n",
      " conv_dw_5 (DepthwiseConv2D)  (None, 28, 28, 256)      2304      \n",
      "                                                                 \n",
      " conv_dw_5_bn (BatchNormaliz  (None, 28, 28, 256)      1024      \n",
      " ation)                                                          \n",
      "                                                                 \n",
      " conv_dw_5_relu (ReLU)       (None, 28, 28, 256)       0         \n",
      "                                                                 \n",
      " conv_pw_5 (Conv2D)          (None, 28, 28, 256)       65536     \n",
      "                                                                 \n",
      " conv_pw_5_bn (BatchNormaliz  (None, 28, 28, 256)      1024      \n",
      " ation)                                                          \n",
      "                                                                 \n",
      " conv_pw_5_relu (ReLU)       (None, 28, 28, 256)       0         \n",
      "                                                                 \n",
      " conv_pad_6 (ZeroPadding2D)  (None, 29, 29, 256)       0         \n",
      "                                                                 \n",
      " conv_dw_6 (DepthwiseConv2D)  (None, 14, 14, 256)      2304      \n",
      "                                                                 \n",
      " conv_dw_6_bn (BatchNormaliz  (None, 14, 14, 256)      1024      \n",
      " ation)                                                          \n",
      "                                                                 \n",
      " conv_dw_6_relu (ReLU)       (None, 14, 14, 256)       0         \n",
      "                                                                 \n",
      " conv_pw_6 (Conv2D)          (None, 14, 14, 512)       131072    \n",
      "                                                                 \n",
      " conv_pw_6_bn (BatchNormaliz  (None, 14, 14, 512)      2048      \n",
      " ation)                                                          \n",
      "                                                                 \n",
      " conv_pw_6_relu (ReLU)       (None, 14, 14, 512)       0         \n",
      "                                                                 \n",
      " conv_dw_7 (DepthwiseConv2D)  (None, 14, 14, 512)      4608      \n",
      "                                                                 \n",
      " conv_dw_7_bn (BatchNormaliz  (None, 14, 14, 512)      2048      \n",
      " ation)                                                          \n",
      "                                                                 \n",
      " conv_dw_7_relu (ReLU)       (None, 14, 14, 512)       0         \n",
      "                                                                 \n",
      " conv_pw_7 (Conv2D)          (None, 14, 14, 512)       262144    \n",
      "                                                                 \n",
      " conv_pw_7_bn (BatchNormaliz  (None, 14, 14, 512)      2048      \n",
      " ation)                                                          \n",
      "                                                                 \n",
      " conv_pw_7_relu (ReLU)       (None, 14, 14, 512)       0         \n",
      "                                                                 \n",
      " conv_dw_8 (DepthwiseConv2D)  (None, 14, 14, 512)      4608      \n",
      "                                                                 \n",
      " conv_dw_8_bn (BatchNormaliz  (None, 14, 14, 512)      2048      \n",
      " ation)                                                          \n",
      "                                                                 \n",
      " conv_dw_8_relu (ReLU)       (None, 14, 14, 512)       0         \n",
      "                                                                 \n",
      " conv_pw_8 (Conv2D)          (None, 14, 14, 512)       262144    \n"
     ]
    },
    {
     "name": "stdout",
     "output_type": "stream",
     "text": [
      "                                                                 \n",
      " conv_pw_8_bn (BatchNormaliz  (None, 14, 14, 512)      2048      \n",
      " ation)                                                          \n",
      "                                                                 \n",
      " conv_pw_8_relu (ReLU)       (None, 14, 14, 512)       0         \n",
      "                                                                 \n",
      " conv_dw_9 (DepthwiseConv2D)  (None, 14, 14, 512)      4608      \n",
      "                                                                 \n",
      " conv_dw_9_bn (BatchNormaliz  (None, 14, 14, 512)      2048      \n",
      " ation)                                                          \n",
      "                                                                 \n",
      " conv_dw_9_relu (ReLU)       (None, 14, 14, 512)       0         \n",
      "                                                                 \n",
      " conv_pw_9 (Conv2D)          (None, 14, 14, 512)       262144    \n",
      "                                                                 \n",
      " conv_pw_9_bn (BatchNormaliz  (None, 14, 14, 512)      2048      \n",
      " ation)                                                          \n",
      "                                                                 \n",
      " conv_pw_9_relu (ReLU)       (None, 14, 14, 512)       0         \n",
      "                                                                 \n",
      " conv_dw_10 (DepthwiseConv2D  (None, 14, 14, 512)      4608      \n",
      " )                                                               \n",
      "                                                                 \n",
      " conv_dw_10_bn (BatchNormali  (None, 14, 14, 512)      2048      \n",
      " zation)                                                         \n",
      "                                                                 \n",
      " conv_dw_10_relu (ReLU)      (None, 14, 14, 512)       0         \n",
      "                                                                 \n",
      " conv_pw_10 (Conv2D)         (None, 14, 14, 512)       262144    \n",
      "                                                                 \n",
      " conv_pw_10_bn (BatchNormali  (None, 14, 14, 512)      2048      \n",
      " zation)                                                         \n",
      "                                                                 \n",
      " conv_pw_10_relu (ReLU)      (None, 14, 14, 512)       0         \n",
      "                                                                 \n",
      " conv_dw_11 (DepthwiseConv2D  (None, 14, 14, 512)      4608      \n",
      " )                                                               \n",
      "                                                                 \n",
      " conv_dw_11_bn (BatchNormali  (None, 14, 14, 512)      2048      \n",
      " zation)                                                         \n",
      "                                                                 \n",
      " conv_dw_11_relu (ReLU)      (None, 14, 14, 512)       0         \n",
      "                                                                 \n",
      " conv_pw_11 (Conv2D)         (None, 14, 14, 512)       262144    \n",
      "                                                                 \n",
      " conv_pw_11_bn (BatchNormali  (None, 14, 14, 512)      2048      \n",
      " zation)                                                         \n",
      "                                                                 \n",
      " conv_pw_11_relu (ReLU)      (None, 14, 14, 512)       0         \n",
      "                                                                 \n",
      " conv_pad_12 (ZeroPadding2D)  (None, 15, 15, 512)      0         \n",
      "                                                                 \n",
      " conv_dw_12 (DepthwiseConv2D  (None, 7, 7, 512)        4608      \n",
      " )                                                               \n",
      "                                                                 \n",
      " conv_dw_12_bn (BatchNormali  (None, 7, 7, 512)        2048      \n",
      " zation)                                                         \n",
      "                                                                 \n",
      " conv_dw_12_relu (ReLU)      (None, 7, 7, 512)         0         \n",
      "                                                                 \n",
      " conv_pw_12 (Conv2D)         (None, 7, 7, 1024)        524288    \n",
      "                                                                 \n",
      " conv_pw_12_bn (BatchNormali  (None, 7, 7, 1024)       4096      \n",
      " zation)                                                         \n",
      "                                                                 \n",
      " conv_pw_12_relu (ReLU)      (None, 7, 7, 1024)        0         \n",
      "                                                                 \n",
      " conv_dw_13 (DepthwiseConv2D  (None, 7, 7, 1024)       9216      \n",
      " )                                                               \n",
      "                                                                 \n",
      " conv_dw_13_bn (BatchNormali  (None, 7, 7, 1024)       4096      \n",
      " zation)                                                         \n",
      "                                                                 \n",
      " conv_dw_13_relu (ReLU)      (None, 7, 7, 1024)        0         \n",
      "                                                                 \n",
      " conv_pw_13 (Conv2D)         (None, 7, 7, 1024)        1048576   \n",
      "                                                                 \n",
      " conv_pw_13_bn (BatchNormali  (None, 7, 7, 1024)       4096      \n",
      " zation)                                                         \n",
      "                                                                 \n",
      " conv_pw_13_relu (ReLU)      (None, 7, 7, 1024)        0         \n",
      "                                                                 \n",
      " global_average_pooling2d (G  (None, 1, 1, 1024)       0         \n",
      " lobalAveragePooling2D)                                          \n",
      "                                                                 \n",
      " dropout (Dropout)           (None, 1, 1, 1024)        0         \n",
      "                                                                 \n",
      " conv_preds (Conv2D)         (None, 1, 1, 1000)        1025000   \n",
      "                                                                 \n",
      " reshape_2 (Reshape)         (None, 1000)              0         \n",
      "                                                                 \n",
      " predictions (Activation)    (None, 1000)              0         \n",
      "                                                                 \n",
      "=================================================================\n",
      "Total params: 4,253,864\n",
      "Trainable params: 4,231,976\n",
      "Non-trainable params: 21,888\n",
      "_________________________________________________________________\n"
     ]
    }
   ],
   "source": [
    "model = tf.keras.applications.mobilenet.MobileNet()\n",
    "model.summary()"
   ]
  },
  {
   "cell_type": "code",
   "execution_count": 8,
   "id": "35a1cb39",
   "metadata": {},
   "outputs": [],
   "source": [
    "base_input = model.layers[0].input\n",
    "\n",
    "base_output = model.layers[-4].output"
   ]
  },
  {
   "cell_type": "code",
   "execution_count": 9,
   "id": "3de5aaf4",
   "metadata": {},
   "outputs": [],
   "source": [
    "flat_layer = layers.Flatten()(base_output)\n",
    "final_output = layers.Dense(1)(flat_layer)\n",
    "final_op = layers.Activation('sigmoid')(final_output)"
   ]
  },
  {
   "cell_type": "code",
   "execution_count": 10,
   "id": "253bfd26",
   "metadata": {},
   "outputs": [],
   "source": [
    "new_model = keras.Model(inputs = base_input, outputs = final_output)"
   ]
  },
  {
   "cell_type": "code",
   "execution_count": 11,
   "id": "6b39db27",
   "metadata": {},
   "outputs": [],
   "source": [
    "new_model.compile(loss = 'binary_crossentropy',optimizer = 'adam',metrics = ['accuracy'])"
   ]
  },
  {
   "cell_type": "code",
   "execution_count": null,
   "id": "a0752e36",
   "metadata": {},
   "outputs": [
    {
     "name": "stdout",
     "output_type": "stream",
     "text": [
      "Epoch 1/20\n",
      "113/113 [==============================] - 287s 2s/step - loss: 0.3231 - accuracy: 0.9756 - val_loss: 0.3072 - val_accuracy: 0.9800\n",
      "Epoch 2/20\n",
      "113/113 [==============================] - 273s 2s/step - loss: 0.1738 - accuracy: 0.9864 - val_loss: 0.3445 - val_accuracy: 0.9775\n",
      "Epoch 3/20\n",
      " 27/113 [======>.......................] - ETA: 3:10 - loss: 0.6981 - accuracy: 0.9525"
     ]
    }
   ],
   "source": [
    "new_model.fit(x,y,epochs = 20, validation_split = 0.1)"
   ]
  },
  {
   "cell_type": "code",
   "execution_count": null,
   "id": "3ad0bfe2",
   "metadata": {},
   "outputs": [],
   "source": [
    "new_model.save('my_model.h5')"
   ]
  },
  {
   "cell_type": "code",
   "execution_count": null,
   "id": "f9e1bebe",
   "metadata": {},
   "outputs": [],
   "source": [
    "new_model = tf.keras.models.load_model('my_model.h5')"
   ]
  },
  {
   "cell_type": "code",
   "execution_count": null,
   "id": "fa368eee",
   "metadata": {},
   "outputs": [],
   "source": [
    "img = cv2.imread('Some Images to test/open-test_1.png',cv2.IMREAD_GRAYSCALE)\n",
    "rgb = cv2.cvtColor(img,cv2.COLOR_GRAY2RGB)\n",
    "new = cv2.resize(rgb,(224,224))"
   ]
  },
  {
   "cell_type": "code",
   "execution_count": null,
   "id": "328281eb",
   "metadata": {},
   "outputs": [],
   "source": [
    "x_input = np.array(new).reshape(1,224,224,3)\n",
    "x_input.shape"
   ]
  },
  {
   "cell_type": "code",
   "execution_count": null,
   "id": "20c98512",
   "metadata": {},
   "outputs": [],
   "source": [
    "x_input = x_input/225.0"
   ]
  },
  {
   "cell_type": "code",
   "execution_count": null,
   "id": "9de9fadf",
   "metadata": {},
   "outputs": [],
   "source": [
    "plt.imshow(new)"
   ]
  },
  {
   "cell_type": "code",
   "execution_count": null,
   "id": "1c626f7d",
   "metadata": {},
   "outputs": [],
   "source": [
    "prediction = new_model.predict(x_input)\n",
    "prediction"
   ]
  },
  {
   "cell_type": "code",
   "execution_count": null,
   "id": "1c22d115",
   "metadata": {},
   "outputs": [],
   "source": [
    "img = cv2.imread('Some Images to test/open-test_2.png',cv2.IMREAD_GRAYSCALE)\n",
    "rgb = cv2.cvtColor(img,cv2.COLOR_GRAY2RGB)\n",
    "new = cv2.resize(rgb,(224,224))\n",
    "\n",
    "x_input = np.array(new).reshape(1,224,224,3)\n",
    "x_input = x_input/225.0\n",
    "plt.imshow(new)"
   ]
  },
  {
   "cell_type": "code",
   "execution_count": null,
   "id": "74da37f8",
   "metadata": {},
   "outputs": [],
   "source": [
    "prediction = new_model.predict(x_input)\n",
    "prediction"
   ]
  },
  {
   "cell_type": "code",
   "execution_count": null,
   "id": "d9810900",
   "metadata": {},
   "outputs": [],
   "source": [
    "img = cv2.imread('Some Images to test/open-test_3.png',cv2.IMREAD_GRAYSCALE)\n",
    "rgb = cv2.cvtColor(img,cv2.COLOR_GRAY2RGB)\n",
    "new = cv2.resize(rgb,(224,224))\n",
    "\n",
    "x_input = np.array(new).reshape(1,224,224,3)\n",
    "x_input = x_input/225.0\n",
    "plt.imshow(new)"
   ]
  },
  {
   "cell_type": "code",
   "execution_count": null,
   "id": "61d32278",
   "metadata": {},
   "outputs": [],
   "source": [
    "prediction = new_model.predict(x_input)\n",
    "prediction"
   ]
  },
  {
   "cell_type": "code",
   "execution_count": null,
   "id": "34c259d1",
   "metadata": {},
   "outputs": [],
   "source": [
    "img = cv2.imread('Some Images to test/closed_test_1.png',cv2.IMREAD_GRAYSCALE)\n",
    "rgb = cv2.cvtColor(img,cv2.COLOR_GRAY2RGB)\n",
    "new = cv2.resize(rgb,(224,224))\n",
    "\n",
    "x_input = np.array(new).reshape(1,224,224,3)\n",
    "x_input = x_input/225.0\n",
    "plt.imshow(new)"
   ]
  },
  {
   "cell_type": "code",
   "execution_count": null,
   "id": "ca02844e",
   "metadata": {},
   "outputs": [],
   "source": [
    "prediction = new_model.predict(x_input)\n",
    "prediction"
   ]
  },
  {
   "cell_type": "code",
   "execution_count": null,
   "id": "e28ece7b",
   "metadata": {},
   "outputs": [],
   "source": [
    "img = cv2.imread('Some Images to test/closed_test_2.png',cv2.IMREAD_GRAYSCALE)\n",
    "rgb = cv2.cvtColor(img,cv2.COLOR_GRAY2RGB)\n",
    "new = cv2.resize(rgb,(224,224))\n",
    "\n",
    "x_input = np.array(new).reshape(1,224,224,3)\n",
    "x_input = x_input/225.0\n",
    "plt.imshow(new)"
   ]
  },
  {
   "cell_type": "code",
   "execution_count": null,
   "id": "22aec2b5",
   "metadata": {},
   "outputs": [],
   "source": [
    "prediction = new_model.predict(x_input)\n",
    "prediction"
   ]
  },
  {
   "cell_type": "code",
   "execution_count": null,
   "id": "b233810d",
   "metadata": {},
   "outputs": [],
   "source": [
    "img = cv2.imread('Some Images to test/closed_test_3.png',cv2.IMREAD_GRAYSCALE)\n",
    "rgb = cv2.cvtColor(img,cv2.COLOR_GRAY2RGB)\n",
    "new = cv2.resize(rgb,(224,224))\n",
    "\n",
    "x_input = np.array(new).reshape(1,224,224,3)\n",
    "x_input = x_input/225.0\n",
    "plt.imshow(new)"
   ]
  },
  {
   "cell_type": "code",
   "execution_count": null,
   "id": "e1651ce2",
   "metadata": {},
   "outputs": [],
   "source": [
    "prediction = new_model.predict(x_input)\n",
    "prediction"
   ]
  },
  {
   "cell_type": "markdown",
   "id": "c7060b10",
   "metadata": {},
   "source": [
    "<h1>Detecting eyes from face and applying our model on it"
   ]
  },
  {
   "cell_type": "code",
   "execution_count": null,
   "id": "1188af80",
   "metadata": {},
   "outputs": [],
   "source": [
    "img = cv2.imread('Some Images to test/full_face.jpg')\n",
    "plt.imshow(cv2.cvtColor(img,cv2.COLOR_BGR2RGB))\n",
    "# in opencv images are stored in bgr format so to use or see them in our persepective we have to convert into rgb form"
   ]
  },
  {
   "cell_type": "code",
   "execution_count": null,
   "id": "c0811eda",
   "metadata": {},
   "outputs": [],
   "source": [
    "face_cascade = cv2.CascadeClassifier(cv2.data.haarcascades + 'haarcascade_frontalface_default.xml')"
   ]
  },
  {
   "cell_type": "code",
   "execution_count": null,
   "id": "fda15b40",
   "metadata": {},
   "outputs": [],
   "source": [
    "eye_cascade = cv2.CascadeClassifier(cv2.data.haarcascades + 'haarcascade_eye.xml')"
   ]
  },
  {
   "cell_type": "code",
   "execution_count": null,
   "id": "6412f801",
   "metadata": {},
   "outputs": [],
   "source": [
    "gray = cv2.cvtColor(img,cv2.COLOR_BGR2GRAY)"
   ]
  },
  {
   "cell_type": "code",
   "execution_count": null,
   "id": "a669b4e4",
   "metadata": {},
   "outputs": [],
   "source": [
    "eyes = eye_cascade.detectMultiScale(gray, scaleFactor = 1.1,minNeighbors = 5, minSize = (30,30))"
   ]
  },
  {
   "cell_type": "code",
   "execution_count": null,
   "id": "5bfd8b47",
   "metadata": {},
   "outputs": [],
   "source": [
    "for x,y,w,h in eyes[:2]:\n",
    "    cv2.rectangle(img,(x,y),(x+w,y+h),(0,255,0),2)"
   ]
  },
  {
   "cell_type": "code",
   "execution_count": null,
   "id": "3ec5ae3b",
   "metadata": {},
   "outputs": [],
   "source": [
    "plt.imshow(cv2.cvtColor(img,cv2.COLOR_BGR2RGB))"
   ]
  },
  {
   "cell_type": "code",
   "execution_count": null,
   "id": "276d110a",
   "metadata": {},
   "outputs": [],
   "source": [
    "for x,y,w,h in eyes[:2]:\n",
    "    roi_gray = gray[y:y+h,x:x+w]\n",
    "    roi_color = img[y:y+h,x:x+w]\n",
    "    eyess = eye_cascade.detectMultiScale(roi_gray)\n",
    "    if len(eyess) ==0:\n",
    "        print('eyes are not detected')\n",
    "    else:\n",
    "        for (ex,ey,ew,eh) in eyess:\n",
    "            eyes_roi = roi_color[ey:ey+eh,ex:ex+w]\n"
   ]
  },
  {
   "cell_type": "code",
   "execution_count": null,
   "id": "c2f2fb69",
   "metadata": {},
   "outputs": [],
   "source": [
    "plt.imshow(cv2.cvtColor(eyes_roi,cv2.COLOR_BGR2RGB))"
   ]
  },
  {
   "cell_type": "code",
   "execution_count": null,
   "id": "4721f880",
   "metadata": {},
   "outputs": [],
   "source": [
    "final_image = cv2.resize(eyes_roi,(224,224))\n",
    "final_image = np.expand_dims(final_image,axis=0)\n",
    "# since it is a single image but our input for the model is of dimension (1,224,224,3) we have to expand the dimension\n",
    "final_image = final_image/255.0\n",
    "final_image.shape"
   ]
  },
  {
   "cell_type": "code",
   "execution_count": null,
   "id": "8533fbe6",
   "metadata": {},
   "outputs": [],
   "source": [
    "predictions = new_model.predict(final_image)"
   ]
  },
  {
   "cell_type": "code",
   "execution_count": null,
   "id": "98154adf",
   "metadata": {},
   "outputs": [],
   "source": [
    "predictions"
   ]
  },
  {
   "cell_type": "code",
   "execution_count": null,
   "id": "cb20cd0b",
   "metadata": {},
   "outputs": [],
   "source": [
    "cap = cv2.VideoCapture(0)\n",
    "if not cap.isOpened():\n",
    "    cap = cv2.VideoCapture(1)\n",
    "if not cap.isOpened():\n",
    "    raise IOError('cannot open webcam')"
   ]
  },
  {
   "cell_type": "code",
   "execution_count": null,
   "id": "b9635dba",
   "metadata": {},
   "outputs": [],
   "source": [
    "while True:\n",
    "    cbs = 0\n",
    "    \n",
    "    success,frame = cap.read()\n",
    "    if not success:\n",
    "        break\n",
    "    else:\n",
    "        face_cascade = cv2.CascadeClassifier(cv2.data.haarcascades + 'haarcascade_frontalface_default.xml')\n",
    "        eye_cascade = cv2.CascadeClassifier(cv2.data.haarcascades + 'haarcascade_eye.xml')\n",
    "        faces = face_cascade.detectMultiScale(frame,1.1,7)\n",
    "        gray = cv2.cvtColor(frame,cv2.COLOR_BGR2GRAY)\n",
    "        for (x,y,w,h) in faces:\n",
    "            cv2.rectangle(frame,(x,y),(x+w,y+h),(255,0,0),2)\n",
    "            roi_gray = gray[y:y+h,x:x+w]\n",
    "            roi_color = frame[y:y+h,x:x+w]\n",
    "            eyes = eye_cascade.detectMultiScale(roi_gray,1.1,3)\n",
    "            if len(eyes) ==0:\n",
    "                print('Eyes not detected')\n",
    "                cbs = 0\n",
    "                break\n",
    "            for (ex,ey,ew,eh) in eyes:\n",
    "                cbs = 1\n",
    "                cv2.rectangle(roi_color,(ex,ey),(ex+ew,ey+eh),(0,255,0),2)\n",
    "                eyes_roi = roi_color[ey:ey+eh,ex:ex+ew]\n",
    "    if cbs ==1:\n",
    "        final_image = cv2.resize(eyes_roi,(224,224))\n",
    "        final_image = np.expand_dims(final_image,axis=0)\n",
    "        final_image = final_image/255.0\n",
    "        predictions = new_model.predict(final_image)\n",
    "        if (predictions[0][0] <0):\n",
    "            status = \"Open Eyes\"\n",
    "        else:\n",
    "            status = \"Closed Eyes\"\n",
    "        font = cv2.FONT_HERSHEY_SIMPLEX\n",
    "        cv2.putText(frame,status,(50,50),font,3,(0,0,255),2,cv2.LINE_4)\n",
    "        \n",
    "    cv2.imshow('Driver Drowsiness Detection',frame)\n",
    "\n",
    "    if cv2.waitKey(2) & 0xFF == ord('q'):\n",
    "        break\n",
    "\n",
    "cap.release()\n",
    "cv2.destroyAllWindows()\n",
    "\n"
   ]
  },
  {
   "cell_type": "code",
   "execution_count": null,
   "id": "6545ce3e",
   "metadata": {},
   "outputs": [],
   "source": []
  },
  {
   "cell_type": "code",
   "execution_count": null,
   "id": "d25f76bc",
   "metadata": {},
   "outputs": [],
   "source": []
  }
 ],
 "metadata": {
  "kernelspec": {
   "display_name": "Python 3 (ipykernel)",
   "language": "python",
   "name": "python3"
  },
  "language_info": {
   "codemirror_mode": {
    "name": "ipython",
    "version": 3
   },
   "file_extension": ".py",
   "mimetype": "text/x-python",
   "name": "python",
   "nbconvert_exporter": "python",
   "pygments_lexer": "ipython3",
   "version": "3.11.3"
  }
 },
 "nbformat": 4,
 "nbformat_minor": 5
}
